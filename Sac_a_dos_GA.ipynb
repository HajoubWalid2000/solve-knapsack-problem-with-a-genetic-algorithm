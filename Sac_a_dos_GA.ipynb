{
 "cells": [
  {
   "cell_type": "code",
   "execution_count": 65,
   "metadata": {},
   "outputs": [
    {
     "name": "stdout",
     "output_type": "stream",
     "text": [
      "Liste des articles  : \n",
      "Numero.   Poids   Valeur\n",
      "1          3         266\n",
      "\n",
      "2          13         442\n",
      "\n",
      "3          10         671\n",
      "\n",
      "4          9         526\n",
      "\n",
      "5          7         388\n",
      "\n",
      "6          1         245\n",
      "\n",
      "7          8         210\n",
      "\n",
      "8          8         145\n",
      "\n",
      "9          2         126\n",
      "\n",
      "10          9         322\n",
      "\n"
     ]
    }
   ],
   "source": [
    "import numpy as np\r\n",
    "import random as rd\r\n",
    "from tqdm import tqdm\r\n",
    "from random import randint\r\n",
    "import matplotlib.pyplot as plt\r\n",
    "\r\n",
    "item_number = np.arange(1,11)\r\n",
    "weight = (3,13,10,9,7,1,8,8,2,9)\r\n",
    "value =(266,442,671,526,388,245,210,145,126,322)\r\n",
    "\r\n",
    "knapsack_threshold = 35    #Maximum poids du sac \r\n",
    "print('Liste des articles  : ')\r\n",
    "print('Numero.   Poids   Valeur')\r\n",
    "for i in range(item_number.shape[0]):\r\n",
    "    print('{0}          {1}         {2}\\n'.format(item_number[i], weight[i], value[i]))\r\n"
   ]
  },
  {
   "cell_type": "code",
   "execution_count": 66,
   "metadata": {},
   "outputs": [
    {
     "name": "stdout",
     "output_type": "stream",
     "text": [
      "taille de initial Population  = (8, 10)\n",
      "population Initial  est : \n",
      "[[0 1 1 0 1 0 1 0 0 1]\n",
      " [1 1 1 1 0 1 0 0 1 0]\n",
      " [1 0 0 0 0 0 0 1 0 0]\n",
      " [1 0 0 1 0 0 0 1 0 1]\n",
      " [1 0 0 1 0 0 0 1 0 0]\n",
      " [1 1 1 0 1 1 1 0 0 1]\n",
      " [1 1 1 0 0 0 0 0 0 0]\n",
      " [0 0 0 0 0 0 0 1 0 0]]\n"
     ]
    }
   ],
   "source": [
    "solutions_per_pop = 8 # nombre des chromosomes dans population initial\r\n",
    "pop_size = (solutions_per_pop, item_number.shape[0]) \r\n",
    "print('taille de initial Population  = {}'.format(pop_size))  # population initial\r\n",
    "initial_population = np.random.randint(2, size = pop_size) # initilaliser population initial aléatoire\r\n",
    "initial_population = initial_population.astype(int)\r\n",
    "num_generations = 150  # nombre de génération \r\n",
    "print('population Initial  est : \\n{}'.format(initial_population))"
   ]
  },
  {
   "cell_type": "code",
   "execution_count": 67,
   "metadata": {},
   "outputs": [],
   "source": [
    "def cal_fitness(weight, value, population, threshold):\r\n",
    "    fitness = np.empty(population.shape[0])\r\n",
    "    for i in range(population.shape[0]):              #calculer fitness d'une population\r\n",
    "        S1 = np.sum(population[i] * value)\r\n",
    "        S2 = np.sum(population[i] * weight)\r\n",
    "        if S2 <= threshold:\r\n",
    "            fitness[i] = S1\r\n",
    "        else :\r\n",
    "            fitness[i] = 0 \r\n",
    "    return fitness.astype(int) \r\n",
    "\r\n",
    "def selection(fitness, num_parents, population):\r\n",
    "    fitness = list(fitness)\r\n",
    "    parents = np.empty((num_parents, population.shape[1]))\r\n",
    "    for i in range(num_parents):                                   #selection des parent a partir de fitness calculer\r\n",
    "        max_fitness_idx = np.where(fitness == np.max(fitness))\r\n",
    "        parents[i,:] = population[max_fitness_idx[0][0], :]\r\n",
    "        fitness[max_fitness_idx[0][0]] = -999999\r\n",
    "    return parents"
   ]
  },
  {
   "cell_type": "code",
   "execution_count": 68,
   "metadata": {},
   "outputs": [],
   "source": [
    "def crossover(parents, num_offsprings):\r\n",
    "    offsprings = np.empty((num_offsprings, parents.shape[1]))\r\n",
    "    crossover_point = int(parents.shape[1]/2)\r\n",
    "    crossover_rate = 0.5\r\n",
    "    i=0\r\n",
    "    while (parents.shape[0] < num_offsprings):\r\n",
    "        parent1_index = i%parents.shape[0]\r\n",
    "        parent2_index = (i+1)%parents.shape[0]   # faire le croissement a pts\r\n",
    "        x = rd.random()\r\n",
    "        if x > crossover_rate:\r\n",
    "            continue\r\n",
    "        parent1_index = i%parents.shape[0]\r\n",
    "        parent2_index = (i+1)%parents.shape[0]\r\n",
    "        offsprings[i,0:crossover_point] = parents[parent1_index,0:crossover_point]\r\n",
    "        offsprings[i,crossover_point:] = parents[parent2_index,crossover_point:]\r\n",
    "        i=+1\r\n",
    "    return offsprings \r\n",
    "\r\n",
    "def mutation(offsprings):\r\n",
    "    mutants = np.empty((offsprings.shape))\r\n",
    "    mutation_rate = 0.4\r\n",
    "    for i in range(mutants.shape[0]):\r\n",
    "        random_value = rd.random()\r\n",
    "        mutants[i,:] = offsprings[i,:]\r\n",
    "        if random_value > mutation_rate:  # mutaion \r\n",
    "            continue\r\n",
    "        int_random_value = randint(0,offsprings.shape[1]-1)    \r\n",
    "        if mutants[i,int_random_value] == 0 :\r\n",
    "            mutants[i,int_random_value] = 1\r\n",
    "        else :\r\n",
    "            mutants[i,int_random_value] = 0\r\n",
    "    return mutants   "
   ]
  },
  {
   "cell_type": "code",
   "execution_count": 69,
   "metadata": {},
   "outputs": [],
   "source": [
    "def algorithme_genetique(weight, value, population, pop_size, num_generations, threshold):\r\n",
    "    parameters, fitness_history = [], []  # pour saugarder la trace de variation\r\n",
    "    num_parents = int(pop_size[0]/2)\r\n",
    "    num_offsprings = pop_size[0] - num_parents \r\n",
    "    for i in tqdm(range(num_generations)):\r\n",
    "        fitness = cal_fitness(weight, value, population, threshold)\r\n",
    "        fitness_history.append(fitness)\r\n",
    "        parents = selection(fitness, num_parents, population)\r\n",
    "        offsprings = crossover(parents, num_offsprings)              # appliquer cycle de algoritme génétique\r\n",
    "        mutants = mutation(offsprings)\r\n",
    "        population[0:parents.shape[0], :] = parents\r\n",
    "        population[parents.shape[0]:, :] = mutants\r\n",
    "        \r\n",
    "    print('Last generation: \\n{}\\n'.format(population)) \r\n",
    "    fitness_last_gen = cal_fitness(weight, value, population, threshold)      \r\n",
    "    print('Fitness of the last generation: \\n{}\\n'.format(fitness_last_gen))\r\n",
    "    max_fitness = np.where(fitness_last_gen == np.max(fitness_last_gen))\r\n",
    "    parameters.append(population[max_fitness[0][0],:])\r\n",
    "    return parameters, fitness_history"
   ]
  },
  {
   "cell_type": "code",
   "execution_count": 73,
   "metadata": {},
   "outputs": [
    {
     "name": "stderr",
     "output_type": "stream",
     "text": [
      "100%|██████████| 150/150 [00:00<00:00, 521.15it/s]"
     ]
    },
    {
     "name": "stdout",
     "output_type": "stream",
     "text": [
      "Last generation: \n",
      "[[1 0 1 1 0 1 0 0 1 1]\n",
      " [1 0 1 1 0 1 0 0 1 1]\n",
      " [1 0 1 1 0 1 0 0 1 1]\n",
      " [1 0 1 1 0 1 0 0 1 1]\n",
      " [1 0 1 1 0 1 0 0 1 1]\n",
      " [1 0 1 0 0 1 0 0 1 1]\n",
      " [1 0 1 1 0 1 1 0 1 1]\n",
      " [1 0 1 1 0 0 0 0 1 1]]\n",
      "\n",
      "Fitness of the last generation: \n",
      "[2156 2156 2156 2156 2156 1630    0 1911]\n",
      "\n",
      "Chromosomes ayant valeur optimal est :  \n",
      "[array([1, 0, 1, 1, 0, 1, 0, 0, 1, 1])]\n",
      "\n",
      "list des article qui peut ranger dans sac est : \n",
      "1\t\n",
      "3\t\n",
      "4\t\n",
      "6\t\n",
      "9\t\n",
      "10\t\n"
     ]
    },
    {
     "name": "stderr",
     "output_type": "stream",
     "text": [
      "\n"
     ]
    }
   ],
   "source": [
    "parameters, fitness_history = algorithme_genetique(weight, value, initial_population, pop_size, num_generations, knapsack_threshold)\r\n",
    "print('Chromosomes ayant valeur optimal est :  \\n{}'.format(parameters))\r\n",
    "selected_items = item_number * parameters\r\n",
    "print('\\nlist des article qui peut ranger dans sac est : ')\r\n",
    "for i in range(selected_items.shape[1]):\r\n",
    "  if selected_items[0][i] != 0:\r\n",
    "     print('{}\\t'.format(selected_items[0][i]))"
   ]
  },
  {
   "cell_type": "code",
   "execution_count": 71,
   "metadata": {},
   "outputs": [
    {
     "data": {
      "image/png": "[encoded data removed]",
      "text/plain": [
       "<Figure size 432x288 with 1 Axes>"
      ]
     },
     "metadata": {
      "needs_background": "light"
     },
     "output_type": "display_data"
    },
    {
     "name": "stdout",
     "output_type": "stream",
     "text": [
      "(150, 8)\n"
     ]
    }
   ],
   "source": [
    "fitness_history_mean = [np.mean(fitness) for fitness in fitness_history]\r\n",
    "fitness_history_max = [np.max(fitness) for fitness in fitness_history]\r\n",
    "plt.plot(list(range(num_generations)), fitness_history_mean, label = 'Variation Fitness selon génération')\r\n",
    "plt.legend()\r\n",
    "plt.title('Le fitness à travers les générations')\r\n",
    "plt.xlabel('Generations')\r\n",
    "plt.ylabel('Fitness')\r\n",
    "plt.show()\r\n",
    "print(np.asarray(fitness_history).shape)"
   ]
  },
  {
   "cell_type": "code",
   "execution_count": null,
   "metadata": {},
   "outputs": [],
   "source": [
    "\r\n"
   ]
  }
 ],
 "metadata": {
  "interpreter": {
   "hash": "b3ba2566441a7c06988d0923437866b63cedc61552a5af99d1f4fb67d367b25f"
  },
  "kernelspec": {
   "display_name": "Python 3.9.7 64-bit (conda)",
   "name": "python3"
  },
  "language_info": {
   "codemirror_mode": {
    "name": "ipython",
    "version": 3
   },
   "file_extension": ".py",
   "mimetype": "text/x-python",
   "name": "python",
   "nbconvert_exporter": "python",
   "pygments_lexer": "ipython3",
   "version": "3.9.7"
  },
  "orig_nbformat": 4
 },
 "nbformat": 4,
 "nbformat_minor": 2
}